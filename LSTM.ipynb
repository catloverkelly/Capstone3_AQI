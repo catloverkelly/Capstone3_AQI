{
 "cells": [
  {
   "cell_type": "markdown",
   "id": "af1248fd",
   "metadata": {},
   "source": [
    "## Imports"
   ]
  },
  {
   "cell_type": "code",
   "execution_count": 1,
   "id": "d88e9bb2",
   "metadata": {},
   "outputs": [],
   "source": [
    "# The OS module in Python provides functions for interacting with the operating system\n",
    "import os\n",
    "\n",
    "import itertools\n",
    "\n",
    "# import the necessary modules\n",
    "import numpy as np\n",
    "import pandas as pd\n",
    "import matplotlib.pyplot as plt\n",
    "import seaborn as sns\n",
    "\n",
    "# tsa statsmodel \n",
    "from statsmodels.tsa.seasonal import seasonal_decompose\n",
    "from statsmodels.graphics.tsaplots import plot_acf, plot_pacf\n",
    "\n",
    "# sklearn\n",
    "from sklearn.preprocessing import MinMaxScaler\n",
    "from sklearn.metrics import mean_squared_error\n",
    "\n",
    "# keras, LSTM\n",
    "#!pip install tensorflow\n",
    "from tensorflow import keras\n",
    "from keras.preprocessing.sequence import TimeseriesGenerator\n",
    "from keras.models import Sequential\n",
    "from keras.layers import Dense, LSTM, Dropout\n",
    "\n",
    "#!pip install keras-tuner\n",
    "import tensorflow as tf\n",
    "import keras_tuner as kt"
   ]
  },
  {
   "cell_type": "markdown",
   "id": "6231db16",
   "metadata": {},
   "source": [
    "## Load Data"
   ]
  },
  {
   "cell_type": "code",
   "execution_count": 2,
   "id": "9827d11b",
   "metadata": {},
   "outputs": [],
   "source": [
    "path1 = 'C:/Users/KNguyen/Desktop/springboard/Capstone3_AQI/data/processed/median_AQI_untransformed.csv'\n",
    "\n",
    "df = pd.read_csv(path1, parse_dates=['Date'])"
   ]
  },
  {
   "cell_type": "code",
   "execution_count": 3,
   "id": "203bcc78",
   "metadata": {},
   "outputs": [
    {
     "name": "stdout",
     "output_type": "stream",
     "text": [
      "<class 'pandas.core.frame.DataFrame'>\n",
      "RangeIndex: 509 entries, 0 to 508\n",
      "Data columns (total 2 columns):\n",
      " #   Column  Non-Null Count  Dtype         \n",
      "---  ------  --------------  -----         \n",
      " 0   Date    509 non-null    datetime64[ns]\n",
      " 1   AQI     509 non-null    float64       \n",
      "dtypes: datetime64[ns](1), float64(1)\n",
      "memory usage: 8.1 KB\n"
     ]
    }
   ],
   "source": [
    "df.info()"
   ]
  },
  {
   "cell_type": "markdown",
   "id": "2390c79b",
   "metadata": {},
   "source": [
    "## Preprocessing"
   ]
  },
  {
   "cell_type": "code",
   "execution_count": 4,
   "id": "e4dfc57c",
   "metadata": {},
   "outputs": [],
   "source": [
    "#https://www.youtube.com/watch?v=S8tpSG6Q2H0"
   ]
  },
  {
   "cell_type": "code",
   "execution_count": 5,
   "id": "02127de1",
   "metadata": {},
   "outputs": [],
   "source": [
    "# train test split\n",
    "train = df.iloc[:len(df)-12]\n",
    "test = df.iloc[len(df)-12:]\n",
    "\n",
    "#test"
   ]
  },
  {
   "cell_type": "code",
   "execution_count": 6,
   "id": "bf8c0683",
   "metadata": {},
   "outputs": [
    {
     "data": {
      "text/plain": [
       "array([[0.39393939],\n",
       "       [0.51515152],\n",
       "       [0.48484848],\n",
       "       [0.36363636],\n",
       "       [0.18181818],\n",
       "       [0.18181818],\n",
       "       [0.21212121],\n",
       "       [0.24242424],\n",
       "       [0.3030303 ],\n",
       "       [0.39393939],\n",
       "       [0.42424242],\n",
       "       [0.03030303]])"
      ]
     },
     "execution_count": 6,
     "metadata": {},
     "output_type": "execute_result"
    }
   ],
   "source": [
    "# scaling\n",
    "scaler = MinMaxScaler()\n",
    "scaler.fit(train[['AQI']])\n",
    "scaled_train = scaler.transform(train[['AQI']])\n",
    "scaled_test = scaler.transform(test[['AQI']])\n",
    "\n",
    "scaled_test"
   ]
  },
  {
   "cell_type": "markdown",
   "id": "16d05614",
   "metadata": {},
   "source": [
    "## Create LSTM model"
   ]
  },
  {
   "cell_type": "code",
   "execution_count": 7,
   "id": "3d4bdf49",
   "metadata": {},
   "outputs": [],
   "source": [
    "# define generator\n",
    "\n",
    "n_input = 12 #use previous 12 months to predict next month\n",
    "n_features = 1\n",
    "generator = TimeseriesGenerator(scaled_train, scaled_train, length=n_input, batch_size=1)"
   ]
  },
  {
   "cell_type": "code",
   "execution_count": 8,
   "id": "24e13dfb",
   "metadata": {},
   "outputs": [],
   "source": [
    "# define (baseline) model\n",
    "model = Sequential()\n",
    "model.add(LSTM(100, activation='relu', input_shape = (n_input, n_features))) #input layer\n",
    "model.add(Dense(1)) #output layer\n",
    "model.compile(optimizer='adam', loss='mse')"
   ]
  },
  {
   "cell_type": "code",
   "execution_count": 9,
   "id": "0926d6e6",
   "metadata": {},
   "outputs": [
    {
     "name": "stdout",
     "output_type": "stream",
     "text": [
      "Model: \"sequential\"\n",
      "_________________________________________________________________\n",
      " Layer (type)                Output Shape              Param #   \n",
      "=================================================================\n",
      " lstm (LSTM)                 (None, 100)               40800     \n",
      "                                                                 \n",
      " dense (Dense)               (None, 1)                 101       \n",
      "                                                                 \n",
      "=================================================================\n",
      "Total params: 40,901\n",
      "Trainable params: 40,901\n",
      "Non-trainable params: 0\n",
      "_________________________________________________________________\n"
     ]
    }
   ],
   "source": [
    "model.summary()"
   ]
  },
  {
   "cell_type": "code",
   "execution_count": 10,
   "id": "1b9b342c",
   "metadata": {},
   "outputs": [
    {
     "name": "stdout",
     "output_type": "stream",
     "text": [
      "Epoch 1/50\n",
      "485/485 [==============================] - 6s 6ms/step - loss: 0.0240\n",
      "Epoch 2/50\n",
      "485/485 [==============================] - 3s 6ms/step - loss: 0.0113\n",
      "Epoch 3/50\n",
      "485/485 [==============================] - 3s 7ms/step - loss: 0.0085\n",
      "Epoch 4/50\n",
      "485/485 [==============================] - 4s 7ms/step - loss: 0.0072\n",
      "Epoch 5/50\n",
      "485/485 [==============================] - 3s 6ms/step - loss: 0.0074\n",
      "Epoch 6/50\n",
      "485/485 [==============================] - 3s 6ms/step - loss: 0.0062\n",
      "Epoch 7/50\n",
      "485/485 [==============================] - 3s 7ms/step - loss: 0.0060\n",
      "Epoch 8/50\n",
      "485/485 [==============================] - 4s 9ms/step - loss: 0.0059\n",
      "Epoch 9/50\n",
      "485/485 [==============================] - 3s 7ms/step - loss: 0.0060\n",
      "Epoch 10/50\n",
      "485/485 [==============================] - 3s 6ms/step - loss: 0.0061\n",
      "Epoch 11/50\n",
      "485/485 [==============================] - 3s 7ms/step - loss: 0.0056\n",
      "Epoch 12/50\n",
      "485/485 [==============================] - 3s 7ms/step - loss: 0.0053\n",
      "Epoch 13/50\n",
      "485/485 [==============================] - 3s 7ms/step - loss: 0.0056\n",
      "Epoch 14/50\n",
      "485/485 [==============================] - 3s 7ms/step - loss: 0.0057\n",
      "Epoch 15/50\n",
      "485/485 [==============================] - 3s 6ms/step - loss: 0.0055\n",
      "Epoch 16/50\n",
      "485/485 [==============================] - 3s 6ms/step - loss: 0.0055\n",
      "Epoch 17/50\n",
      "485/485 [==============================] - 3s 7ms/step - loss: 0.0055\n",
      "Epoch 18/50\n",
      "485/485 [==============================] - 3s 7ms/step - loss: 0.0054\n",
      "Epoch 19/50\n",
      "485/485 [==============================] - 4s 7ms/step - loss: 0.0054\n",
      "Epoch 20/50\n",
      "485/485 [==============================] - 4s 7ms/step - loss: 0.0051\n",
      "Epoch 21/50\n",
      "485/485 [==============================] - 3s 7ms/step - loss: 0.0053\n",
      "Epoch 22/50\n",
      "485/485 [==============================] - 3s 7ms/step - loss: 0.0050\n",
      "Epoch 23/50\n",
      "485/485 [==============================] - 3s 7ms/step - loss: 0.0053\n",
      "Epoch 24/50\n",
      "485/485 [==============================] - 3s 7ms/step - loss: 0.0052\n",
      "Epoch 25/50\n",
      "485/485 [==============================] - 3s 7ms/step - loss: 0.0050\n",
      "Epoch 26/50\n",
      "485/485 [==============================] - 3s 7ms/step - loss: 0.0053\n",
      "Epoch 27/50\n",
      "485/485 [==============================] - 3s 7ms/step - loss: 0.0050\n",
      "Epoch 28/50\n",
      "485/485 [==============================] - 3s 7ms/step - loss: 0.0050\n",
      "Epoch 29/50\n",
      "485/485 [==============================] - 3s 7ms/step - loss: 0.0050\n",
      "Epoch 30/50\n",
      "485/485 [==============================] - 3s 7ms/step - loss: 0.0050\n",
      "Epoch 31/50\n",
      "485/485 [==============================] - 3s 7ms/step - loss: 0.0050\n",
      "Epoch 32/50\n",
      "485/485 [==============================] - 3s 7ms/step - loss: 0.0049\n",
      "Epoch 33/50\n",
      "485/485 [==============================] - 3s 7ms/step - loss: 0.0049\n",
      "Epoch 34/50\n",
      "485/485 [==============================] - 4s 8ms/step - loss: 0.0050\n",
      "Epoch 35/50\n",
      "485/485 [==============================] - 4s 8ms/step - loss: 0.0050\n",
      "Epoch 36/50\n",
      "485/485 [==============================] - 4s 8ms/step - loss: 0.0049\n",
      "Epoch 37/50\n",
      "485/485 [==============================] - 4s 8ms/step - loss: 0.0048\n",
      "Epoch 38/50\n",
      "485/485 [==============================] - 4s 8ms/step - loss: 0.0047\n",
      "Epoch 39/50\n",
      "485/485 [==============================] - 4s 7ms/step - loss: 0.0047\n",
      "Epoch 40/50\n",
      "485/485 [==============================] - 3s 7ms/step - loss: 0.0049\n",
      "Epoch 41/50\n",
      "485/485 [==============================] - 3s 7ms/step - loss: 0.0047\n",
      "Epoch 42/50\n",
      "485/485 [==============================] - 3s 7ms/step - loss: 0.0049\n",
      "Epoch 43/50\n",
      "485/485 [==============================] - 3s 7ms/step - loss: 0.0046\n",
      "Epoch 44/50\n",
      "485/485 [==============================] - 4s 7ms/step - loss: 0.0047\n",
      "Epoch 45/50\n",
      "485/485 [==============================] - 4s 8ms/step - loss: 0.0047\n",
      "Epoch 46/50\n",
      "485/485 [==============================] - 4s 7ms/step - loss: 0.0047\n",
      "Epoch 47/50\n",
      "485/485 [==============================] - 4s 7ms/step - loss: 0.0047\n",
      "Epoch 48/50\n",
      "485/485 [==============================] - 4s 8ms/step - loss: 0.0048\n",
      "Epoch 49/50\n",
      "485/485 [==============================] - 4s 8ms/step - loss: 0.0047\n",
      "Epoch 50/50\n",
      "485/485 [==============================] - 4s 7ms/step - loss: 0.0046\n"
     ]
    },
    {
     "data": {
      "text/plain": [
       "<keras.callbacks.History at 0x18196489430>"
      ]
     },
     "execution_count": 10,
     "metadata": {},
     "output_type": "execute_result"
    }
   ],
   "source": [
    "# fit model\n",
    "model.fit(generator, epochs=50)"
   ]
  },
  {
   "cell_type": "code",
   "execution_count": 11,
   "id": "72bcda67",
   "metadata": {},
   "outputs": [
    {
     "data": {
      "text/plain": [
       "[<matplotlib.lines.Line2D at 0x181999e3bb0>]"
      ]
     },
     "execution_count": 11,
     "metadata": {},
     "output_type": "execute_result"
    },
    {
     "data": {
      "image/png": "[encoded data removed]",
      "text/plain": [
       "<Figure size 640x480 with 1 Axes>"
      ]
     },
     "metadata": {},
     "output_type": "display_data"
    }
   ],
   "source": [
    "loss_per_epoch = model.history.history['loss']\n",
    "plt.plot(range(len(loss_per_epoch)), loss_per_epoch)"
   ]
  },
  {
   "cell_type": "code",
   "execution_count": 12,
   "id": "91a6de55",
   "metadata": {},
   "outputs": [],
   "source": [
    "last_train_batch = scaled_train[-12:]"
   ]
  },
  {
   "cell_type": "code",
   "execution_count": 13,
   "id": "72e2dcc2",
   "metadata": {},
   "outputs": [],
   "source": [
    "last_train_batch = last_train_batch.reshape((1, n_input, n_features))"
   ]
  },
  {
   "cell_type": "code",
   "execution_count": 14,
   "id": "bfd81a0f",
   "metadata": {},
   "outputs": [
    {
     "name": "stdout",
     "output_type": "stream",
     "text": [
      "1/1 [==============================] - 0s 446ms/step\n",
      "1/1 [==============================] - 0s 39ms/step\n",
      "1/1 [==============================] - 0s 38ms/step\n",
      "1/1 [==============================] - 0s 38ms/step\n",
      "1/1 [==============================] - 0s 41ms/step\n",
      "1/1 [==============================] - 0s 37ms/step\n",
      "1/1 [==============================] - 0s 37ms/step\n",
      "1/1 [==============================] - 0s 39ms/step\n",
      "1/1 [==============================] - 0s 40ms/step\n",
      "1/1 [==============================] - 0s 41ms/step\n",
      "1/1 [==============================] - 0s 42ms/step\n",
      "1/1 [==============================] - 0s 39ms/step\n"
     ]
    }
   ],
   "source": [
    "test_predictions = []\n",
    "\n",
    "first_eval_batch = scaled_train[-n_input:]\n",
    "current_batch = first_eval_batch.reshape((1, n_input, n_features))\n",
    "\n",
    "for i in range(len(test)):\n",
    "    \n",
    "    # get prediction value for 1st batch\n",
    "    current_pred = model.predict(current_batch)[0]\n",
    "    \n",
    "    # append the prediction onto the array\n",
    "    test_predictions.append(current_pred)\n",
    "    \n",
    "    # use the prediction to update the batch and remove the 1st value\n",
    "    current_batch = np.append(current_batch[:,1:,:],[[current_pred]], axis=1)"
   ]
  },
  {
   "cell_type": "code",
   "execution_count": 15,
   "id": "0268f4e1",
   "metadata": {},
   "outputs": [
    {
     "data": {
      "text/plain": [
       "[array([0.4257251], dtype=float32),\n",
       " array([0.37546295], dtype=float32),\n",
       " array([0.2922787], dtype=float32),\n",
       " array([0.21047568], dtype=float32),\n",
       " array([0.1626802], dtype=float32),\n",
       " array([0.15095998], dtype=float32),\n",
       " array([0.16914937], dtype=float32),\n",
       " array([0.21533519], dtype=float32),\n",
       " array([0.28505093], dtype=float32),\n",
       " array([0.35641575], dtype=float32),\n",
       " array([0.4083259], dtype=float32),\n",
       " array([0.4319471], dtype=float32)]"
      ]
     },
     "execution_count": 15,
     "metadata": {},
     "output_type": "execute_result"
    }
   ],
   "source": [
    "test_predictions"
   ]
  },
  {
   "cell_type": "code",
   "execution_count": null,
   "id": "9a1bab32",
   "metadata": {},
   "outputs": [],
   "source": []
  },
  {
   "cell_type": "code",
   "execution_count": 16,
   "id": "85f5407b",
   "metadata": {},
   "outputs": [
    {
     "name": "stderr",
     "output_type": "stream",
     "text": [
      "C:\\Users\\KNguyen\\AppData\\Local\\Temp\\ipykernel_5304\\2110937659.py:3: SettingWithCopyWarning: \n",
      "A value is trying to be set on a copy of a slice from a DataFrame.\n",
      "Try using .loc[row_indexer,col_indexer] = value instead\n",
      "\n",
      "See the caveats in the documentation: https://pandas.pydata.org/pandas-docs/stable/user_guide/indexing.html#returning-a-view-versus-a-copy\n",
      "  test['Predictions'] = true_predictions\n"
     ]
    }
   ],
   "source": [
    "true_predictions = scaler.inverse_transform(test_predictions)\n",
    "\n",
    "test['Predictions'] = true_predictions"
   ]
  },
  {
   "cell_type": "code",
   "execution_count": 17,
   "id": "d6f6c4d7",
   "metadata": {},
   "outputs": [
    {
     "data": {
      "text/html": [
       "<div>\n",
       "<style scoped>\n",
       "    .dataframe tbody tr th:only-of-type {\n",
       "        vertical-align: middle;\n",
       "    }\n",
       "\n",
       "    .dataframe tbody tr th {\n",
       "        vertical-align: top;\n",
       "    }\n",
       "\n",
       "    .dataframe thead th {\n",
       "        text-align: right;\n",
       "    }\n",
       "</style>\n",
       "<table border=\"1\" class=\"dataframe\">\n",
       "  <thead>\n",
       "    <tr style=\"text-align: right;\">\n",
       "      <th></th>\n",
       "      <th>Date</th>\n",
       "      <th>AQI</th>\n",
       "      <th>Predictions</th>\n",
       "    </tr>\n",
       "  </thead>\n",
       "  <tbody>\n",
       "    <tr>\n",
       "      <th>497</th>\n",
       "      <td>2021-06-30</td>\n",
       "      <td>41.0</td>\n",
       "      <td>42.048928</td>\n",
       "    </tr>\n",
       "    <tr>\n",
       "      <th>498</th>\n",
       "      <td>2021-07-31</td>\n",
       "      <td>45.0</td>\n",
       "      <td>40.390277</td>\n",
       "    </tr>\n",
       "    <tr>\n",
       "      <th>499</th>\n",
       "      <td>2021-08-31</td>\n",
       "      <td>44.0</td>\n",
       "      <td>37.645197</td>\n",
       "    </tr>\n",
       "    <tr>\n",
       "      <th>500</th>\n",
       "      <td>2021-09-30</td>\n",
       "      <td>40.0</td>\n",
       "      <td>34.945698</td>\n",
       "    </tr>\n",
       "    <tr>\n",
       "      <th>501</th>\n",
       "      <td>2021-10-31</td>\n",
       "      <td>34.0</td>\n",
       "      <td>33.368446</td>\n",
       "    </tr>\n",
       "    <tr>\n",
       "      <th>502</th>\n",
       "      <td>2021-11-30</td>\n",
       "      <td>34.0</td>\n",
       "      <td>32.981679</td>\n",
       "    </tr>\n",
       "    <tr>\n",
       "      <th>503</th>\n",
       "      <td>2021-12-31</td>\n",
       "      <td>35.0</td>\n",
       "      <td>33.581929</td>\n",
       "    </tr>\n",
       "    <tr>\n",
       "      <th>504</th>\n",
       "      <td>2022-01-31</td>\n",
       "      <td>36.0</td>\n",
       "      <td>35.106061</td>\n",
       "    </tr>\n",
       "    <tr>\n",
       "      <th>505</th>\n",
       "      <td>2022-02-28</td>\n",
       "      <td>38.0</td>\n",
       "      <td>37.406681</td>\n",
       "    </tr>\n",
       "    <tr>\n",
       "      <th>506</th>\n",
       "      <td>2022-03-31</td>\n",
       "      <td>41.0</td>\n",
       "      <td>39.761720</td>\n",
       "    </tr>\n",
       "    <tr>\n",
       "      <th>507</th>\n",
       "      <td>2022-04-30</td>\n",
       "      <td>42.0</td>\n",
       "      <td>41.474755</td>\n",
       "    </tr>\n",
       "    <tr>\n",
       "      <th>508</th>\n",
       "      <td>2022-05-31</td>\n",
       "      <td>29.0</td>\n",
       "      <td>42.254255</td>\n",
       "    </tr>\n",
       "  </tbody>\n",
       "</table>\n",
       "</div>"
      ],
      "text/plain": [
       "          Date   AQI  Predictions\n",
       "497 2021-06-30  41.0    42.048928\n",
       "498 2021-07-31  45.0    40.390277\n",
       "499 2021-08-31  44.0    37.645197\n",
       "500 2021-09-30  40.0    34.945698\n",
       "501 2021-10-31  34.0    33.368446\n",
       "502 2021-11-30  34.0    32.981679\n",
       "503 2021-12-31  35.0    33.581929\n",
       "504 2022-01-31  36.0    35.106061\n",
       "505 2022-02-28  38.0    37.406681\n",
       "506 2022-03-31  41.0    39.761720\n",
       "507 2022-04-30  42.0    41.474755\n",
       "508 2022-05-31  29.0    42.254255"
      ]
     },
     "execution_count": 17,
     "metadata": {},
     "output_type": "execute_result"
    }
   ],
   "source": [
    "test"
   ]
  },
  {
   "cell_type": "code",
   "execution_count": 18,
   "id": "7f6b7c38",
   "metadata": {},
   "outputs": [
    {
     "data": {
      "text/plain": [
       "<AxesSubplot: >"
      ]
     },
     "execution_count": 18,
     "metadata": {},
     "output_type": "execute_result"
    },
    {
     "data": {
      "image/png": "[encoded data removed]",
      "text/plain": [
       "<Figure size 1200x600 with 1 Axes>"
      ]
     },
     "metadata": {},
     "output_type": "display_data"
    }
   ],
   "source": [
    "test[['AQI', 'Predictions']].plot(figsize=(12,6))"
   ]
  },
  {
   "cell_type": "code",
   "execution_count": 19,
   "id": "0b451fd7",
   "metadata": {},
   "outputs": [
    {
     "name": "stdout",
     "output_type": "stream",
     "text": [
      "4.74659253163856\n"
     ]
    }
   ],
   "source": [
    "rmse = np.sqrt(mean_squared_error(test.AQI, test.Predictions))\n",
    "print(rmse)"
   ]
  },
  {
   "cell_type": "markdown",
   "id": "098db5f8",
   "metadata": {},
   "source": [
    "## Hyperparameter Tuning"
   ]
  },
  {
   "cell_type": "code",
   "execution_count": 20,
   "id": "06070a85",
   "metadata": {},
   "outputs": [],
   "source": [
    "#https://www.analyticsvidhya.com/blog/2021/08/hyperparameter-tuning-of-neural-networks-using-keras-tuner/\n",
    "#https://www.youtube.com/watch?v=Clo1HKB50Ug\n",
    "\n",
    "from keras import layers\n",
    "from keras_tuner.tuners import RandomSearch\n",
    "from keras_tuner.engine.hyperparameters import HyperParameters"
   ]
  },
  {
   "cell_type": "code",
   "execution_count": 21,
   "id": "34c1185d",
   "metadata": {},
   "outputs": [],
   "source": [
    "# scaled train/test data\n",
    "scaled_train = scaler.transform(train[['AQI']])\n",
    "scaled_test = scaler.transform(test[['AQI']])\n",
    "\n",
    "n_input = 12 #use previous 12 months to predict next month\n",
    "n_features = 1\n",
    "generator = TimeseriesGenerator(scaled_train, scaled_train, length=n_input, batch_size=1)\n",
    "\n",
    "# define (baseline) model\n",
    "model = Sequential()\n",
    "model.add(LSTM(100, activation='relu', input_shape = (n_input, n_features))) #input layer\n",
    "model.add(Dense(1)) #output layer\n",
    "model.compile(optimizer='adam', loss='mse')"
   ]
  },
  {
   "cell_type": "code",
   "execution_count": 22,
   "id": "edd747e1",
   "metadata": {},
   "outputs": [],
   "source": [
    "#https://medium.com/analytics-vidhya/hypertuning-a-lstm-with-keras-tuner-to-forecast-solar-irradiance-7da7577e96eb\n",
    "def build_model(hp):\n",
    "    \n",
    "    model = Sequential()\n",
    "    # choose number of neurons\n",
    "    model.add(LSTM(hp.Int('input_unit',min_value=30,max_value=360,step=30),\\\n",
    "                   # makes the output usable to another LSTM\n",
    "                   return_sequences=True,\\\n",
    "                   input_shape = (n_input, n_features)))\n",
    "    \n",
    "    # choose number of layers\n",
    "    for i in range(hp.Int('n_layers', 1, 4)): \n",
    "        model.add(LSTM(hp.Int(f'lstm_{i}_units',min_value=30,max_value=360,step=30),return_sequences=True))\n",
    "        \n",
    "    model.add(LSTM(hp.Int('layer_2_neurons',min_value=30,max_value=360,step=30)))\n",
    "    \n",
    "    # Choose best Dropout rate\n",
    "    model.add(Dropout(hp.Float('Dropout_rate',min_value=0,max_value=0.5,step=0.1)))\n",
    "    \n",
    "    # Dense layer and choice of activation ftn: relu or sigmoid\n",
    "    model.add(Dense(1, activation=hp.Choice('dense_activation',values=['relu', 'sigmoid'],default='relu')))\n",
    "    \n",
    "    # compile\n",
    "    model.compile(loss='mean_squared_error', optimizer='adam',metrics = ['mse'])\n",
    "    \n",
    "    return model"
   ]
  },
  {
   "cell_type": "code",
   "execution_count": 23,
   "id": "5e620912",
   "metadata": {},
   "outputs": [
    {
     "name": "stdout",
     "output_type": "stream",
     "text": [
      "INFO:tensorflow:Reloading Oracle from existing project .\\untitled_project\\oracle.json\n",
      "INFO:tensorflow:Reloading Tuner from .\\untitled_project\\tuner0.json\n"
     ]
    }
   ],
   "source": [
    "tuner= RandomSearch(\n",
    "        build_model,\n",
    "        objective='mse',\n",
    "        max_trials=2,\n",
    "        executions_per_trial=1\n",
    "        )"
   ]
  },
  {
   "cell_type": "code",
   "execution_count": 24,
   "id": "3c15c11a",
   "metadata": {},
   "outputs": [
    {
     "name": "stdout",
     "output_type": "stream",
     "text": [
      "INFO:tensorflow:Oracle triggered exit\n"
     ]
    }
   ],
   "source": [
    "tuner.search(\n",
    "        x=scaled_train,\n",
    "        y=scaled_train,\n",
    "        epochs=30,\n",
    "        batch_size=1,\n",
    "        validation_data=(scaled_test,scaled_test),\n",
    ")"
   ]
  },
  {
   "cell_type": "code",
   "execution_count": 25,
   "id": "b108f4dc",
   "metadata": {},
   "outputs": [],
   "source": [
    "best_model = tuner.get_best_models(num_models=1)[0]"
   ]
  },
  {
   "cell_type": "code",
   "execution_count": 26,
   "id": "0b42d4d5",
   "metadata": {},
   "outputs": [
    {
     "name": "stdout",
     "output_type": "stream",
     "text": [
      "Epoch 1/30\n",
      "485/485 [==============================] - 48s 58ms/step - loss: 0.0492 - mse: 0.0492\n",
      "Epoch 2/30\n",
      "485/485 [==============================] - 29s 60ms/step - loss: 0.0339 - mse: 0.0339\n",
      "Epoch 3/30\n",
      "485/485 [==============================] - 34s 70ms/step - loss: 0.0333 - mse: 0.0333\n",
      "Epoch 4/30\n",
      "485/485 [==============================] - 33s 68ms/step - loss: 0.0324 - mse: 0.0324\n",
      "Epoch 5/30\n",
      "485/485 [==============================] - 29s 61ms/step - loss: 0.0144 - mse: 0.0144\n",
      "Epoch 6/30\n",
      "485/485 [==============================] - 29s 60ms/step - loss: 0.0090 - mse: 0.0090\n",
      "Epoch 7/30\n",
      "485/485 [==============================] - 31s 65ms/step - loss: 0.0083 - mse: 0.0083\n",
      "Epoch 8/30\n",
      "485/485 [==============================] - 29s 59ms/step - loss: 0.0084 - mse: 0.0084\n",
      "Epoch 9/30\n",
      "485/485 [==============================] - 28s 57ms/step - loss: 0.0084 - mse: 0.0084\n",
      "Epoch 10/30\n",
      "485/485 [==============================] - 28s 57ms/step - loss: 0.0085 - mse: 0.0085\n",
      "Epoch 11/30\n",
      "485/485 [==============================] - 28s 57ms/step - loss: 0.0077 - mse: 0.0077\n",
      "Epoch 12/30\n",
      "485/485 [==============================] - 29s 59ms/step - loss: 0.0079 - mse: 0.0079\n",
      "Epoch 13/30\n",
      "485/485 [==============================] - 29s 59ms/step - loss: 0.0077 - mse: 0.0077\n",
      "Epoch 14/30\n",
      "485/485 [==============================] - 28s 59ms/step - loss: 0.0087 - mse: 0.0087\n",
      "Epoch 15/30\n",
      "485/485 [==============================] - 29s 60ms/step - loss: 0.0175 - mse: 0.0175\n",
      "Epoch 16/30\n",
      "485/485 [==============================] - 28s 58ms/step - loss: 0.0100 - mse: 0.0100\n",
      "Epoch 17/30\n",
      "485/485 [==============================] - 28s 58ms/step - loss: 0.0076 - mse: 0.0076\n",
      "Epoch 18/30\n",
      "485/485 [==============================] - 28s 58ms/step - loss: 0.0077 - mse: 0.0077\n",
      "Epoch 19/30\n",
      "485/485 [==============================] - 28s 58ms/step - loss: 0.0075 - mse: 0.0075\n",
      "Epoch 20/30\n",
      "485/485 [==============================] - 28s 58ms/step - loss: 0.0075 - mse: 0.0075\n",
      "Epoch 21/30\n",
      "485/485 [==============================] - 29s 59ms/step - loss: 0.0088 - mse: 0.0088\n",
      "Epoch 22/30\n",
      "485/485 [==============================] - 28s 57ms/step - loss: 0.0072 - mse: 0.0072\n",
      "Epoch 23/30\n",
      "485/485 [==============================] - 28s 57ms/step - loss: 0.0079 - mse: 0.0079\n",
      "Epoch 24/30\n",
      "485/485 [==============================] - 28s 57ms/step - loss: 0.0081 - mse: 0.0081\n",
      "Epoch 25/30\n",
      "485/485 [==============================] - 28s 57ms/step - loss: 0.0090 - mse: 0.0090\n",
      "Epoch 26/30\n",
      "485/485 [==============================] - 28s 57ms/step - loss: 0.0082 - mse: 0.0082\n",
      "Epoch 27/30\n",
      "485/485 [==============================] - 28s 58ms/step - loss: 0.0075 - mse: 0.0075\n",
      "Epoch 28/30\n",
      "485/485 [==============================] - 28s 58ms/step - loss: 0.0076 - mse: 0.0076\n",
      "Epoch 29/30\n",
      "485/485 [==============================] - 29s 60ms/step - loss: 0.0092 - mse: 0.0092\n",
      "Epoch 30/30\n",
      "485/485 [==============================] - 31s 63ms/step - loss: 0.0079 - mse: 0.0079\n"
     ]
    },
    {
     "data": {
      "text/plain": [
       "<keras.callbacks.History at 0x1819a55aa00>"
      ]
     },
     "execution_count": 26,
     "metadata": {},
     "output_type": "execute_result"
    }
   ],
   "source": [
    "best_model.fit(generator, epochs=30)"
   ]
  },
  {
   "cell_type": "code",
   "execution_count": 27,
   "id": "a81ee45c",
   "metadata": {},
   "outputs": [
    {
     "data": {
      "text/plain": [
       "[<matplotlib.lines.Line2D at 0x181aa91df70>]"
      ]
     },
     "execution_count": 27,
     "metadata": {},
     "output_type": "execute_result"
    },
    {
     "data": {
      "image/png": "[encoded data removed]",
      "text/plain": [
       "<Figure size 640x480 with 1 Axes>"
      ]
     },
     "metadata": {},
     "output_type": "display_data"
    }
   ],
   "source": [
    "loss_per_epoch = best_model.history.history['loss']\n",
    "plt.plot(range(len(loss_per_epoch)), loss_per_epoch)"
   ]
  },
  {
   "cell_type": "code",
   "execution_count": 28,
   "id": "cd17cc27",
   "metadata": {},
   "outputs": [],
   "source": [
    "last_train_batch = scaled_train[-12:]\n",
    "last_train_batch = last_train_batch.reshape((1, n_input, n_features))"
   ]
  },
  {
   "cell_type": "code",
   "execution_count": 29,
   "id": "68e80ee7",
   "metadata": {},
   "outputs": [
    {
     "name": "stdout",
     "output_type": "stream",
     "text": [
      "1/1 [==============================] - 6s 6s/step\n",
      "1/1 [==============================] - 0s 54ms/step\n",
      "1/1 [==============================] - 0s 53ms/step\n",
      "1/1 [==============================] - 0s 52ms/step\n",
      "1/1 [==============================] - 0s 53ms/step\n",
      "1/1 [==============================] - 0s 60ms/step\n",
      "1/1 [==============================] - 0s 55ms/step\n",
      "1/1 [==============================] - 0s 52ms/step\n",
      "1/1 [==============================] - 0s 52ms/step\n",
      "1/1 [==============================] - 0s 50ms/step\n",
      "1/1 [==============================] - 0s 54ms/step\n",
      "1/1 [==============================] - 0s 52ms/step\n"
     ]
    }
   ],
   "source": [
    "test_predictions = []\n",
    "\n",
    "first_eval_batch = scaled_train[-n_input:]\n",
    "current_batch = first_eval_batch.reshape((1, n_input, n_features))\n",
    "\n",
    "for i in range(len(test)):\n",
    "    \n",
    "    # get prediction value for 1st batch\n",
    "    current_pred = best_model.predict(current_batch)[0]\n",
    "    \n",
    "    # append the prediction onto the array\n",
    "    test_predictions.append(current_pred)\n",
    "    \n",
    "    # use the prediction to update the batch and remove the 1st value\n",
    "    current_batch = np.append(current_batch[:,1:,:],[[current_pred]], axis=1)"
   ]
  },
  {
   "cell_type": "code",
   "execution_count": 30,
   "id": "0299e9c7",
   "metadata": {},
   "outputs": [
    {
     "name": "stderr",
     "output_type": "stream",
     "text": [
      "C:\\Users\\KNguyen\\AppData\\Local\\Temp\\ipykernel_5304\\2110937659.py:3: SettingWithCopyWarning: \n",
      "A value is trying to be set on a copy of a slice from a DataFrame.\n",
      "Try using .loc[row_indexer,col_indexer] = value instead\n",
      "\n",
      "See the caveats in the documentation: https://pandas.pydata.org/pandas-docs/stable/user_guide/indexing.html#returning-a-view-versus-a-copy\n",
      "  test['Predictions'] = true_predictions\n"
     ]
    }
   ],
   "source": [
    "true_predictions = scaler.inverse_transform(test_predictions)\n",
    "\n",
    "test['Predictions'] = true_predictions"
   ]
  },
  {
   "cell_type": "code",
   "execution_count": 31,
   "id": "e74496ff",
   "metadata": {},
   "outputs": [
    {
     "data": {
      "text/html": [
       "<div>\n",
       "<style scoped>\n",
       "    .dataframe tbody tr th:only-of-type {\n",
       "        vertical-align: middle;\n",
       "    }\n",
       "\n",
       "    .dataframe tbody tr th {\n",
       "        vertical-align: top;\n",
       "    }\n",
       "\n",
       "    .dataframe thead th {\n",
       "        text-align: right;\n",
       "    }\n",
       "</style>\n",
       "<table border=\"1\" class=\"dataframe\">\n",
       "  <thead>\n",
       "    <tr style=\"text-align: right;\">\n",
       "      <th></th>\n",
       "      <th>Date</th>\n",
       "      <th>AQI</th>\n",
       "      <th>Predictions</th>\n",
       "    </tr>\n",
       "  </thead>\n",
       "  <tbody>\n",
       "    <tr>\n",
       "      <th>497</th>\n",
       "      <td>2021-06-30</td>\n",
       "      <td>41.0</td>\n",
       "      <td>41.145915</td>\n",
       "    </tr>\n",
       "    <tr>\n",
       "      <th>498</th>\n",
       "      <td>2021-07-31</td>\n",
       "      <td>45.0</td>\n",
       "      <td>40.264536</td>\n",
       "    </tr>\n",
       "    <tr>\n",
       "      <th>499</th>\n",
       "      <td>2021-08-31</td>\n",
       "      <td>44.0</td>\n",
       "      <td>38.561312</td>\n",
       "    </tr>\n",
       "    <tr>\n",
       "      <th>500</th>\n",
       "      <td>2021-09-30</td>\n",
       "      <td>40.0</td>\n",
       "      <td>36.166938</td>\n",
       "    </tr>\n",
       "    <tr>\n",
       "      <th>501</th>\n",
       "      <td>2021-10-31</td>\n",
       "      <td>34.0</td>\n",
       "      <td>35.014723</td>\n",
       "    </tr>\n",
       "    <tr>\n",
       "      <th>502</th>\n",
       "      <td>2021-11-30</td>\n",
       "      <td>34.0</td>\n",
       "      <td>35.014965</td>\n",
       "    </tr>\n",
       "    <tr>\n",
       "      <th>503</th>\n",
       "      <td>2021-12-31</td>\n",
       "      <td>35.0</td>\n",
       "      <td>35.533338</td>\n",
       "    </tr>\n",
       "    <tr>\n",
       "      <th>504</th>\n",
       "      <td>2022-01-31</td>\n",
       "      <td>36.0</td>\n",
       "      <td>35.534157</td>\n",
       "    </tr>\n",
       "    <tr>\n",
       "      <th>505</th>\n",
       "      <td>2022-02-28</td>\n",
       "      <td>38.0</td>\n",
       "      <td>36.911356</td>\n",
       "    </tr>\n",
       "    <tr>\n",
       "      <th>506</th>\n",
       "      <td>2022-03-31</td>\n",
       "      <td>41.0</td>\n",
       "      <td>39.474045</td>\n",
       "    </tr>\n",
       "    <tr>\n",
       "      <th>507</th>\n",
       "      <td>2022-04-30</td>\n",
       "      <td>42.0</td>\n",
       "      <td>41.995726</td>\n",
       "    </tr>\n",
       "    <tr>\n",
       "      <th>508</th>\n",
       "      <td>2022-05-31</td>\n",
       "      <td>29.0</td>\n",
       "      <td>40.306562</td>\n",
       "    </tr>\n",
       "  </tbody>\n",
       "</table>\n",
       "</div>"
      ],
      "text/plain": [
       "          Date   AQI  Predictions\n",
       "497 2021-06-30  41.0    41.145915\n",
       "498 2021-07-31  45.0    40.264536\n",
       "499 2021-08-31  44.0    38.561312\n",
       "500 2021-09-30  40.0    36.166938\n",
       "501 2021-10-31  34.0    35.014723\n",
       "502 2021-11-30  34.0    35.014965\n",
       "503 2021-12-31  35.0    35.533338\n",
       "504 2022-01-31  36.0    35.534157\n",
       "505 2022-02-28  38.0    36.911356\n",
       "506 2022-03-31  41.0    39.474045\n",
       "507 2022-04-30  42.0    41.995726\n",
       "508 2022-05-31  29.0    40.306562"
      ]
     },
     "execution_count": 31,
     "metadata": {},
     "output_type": "execute_result"
    }
   ],
   "source": [
    "test"
   ]
  },
  {
   "cell_type": "code",
   "execution_count": 32,
   "id": "0bf14306",
   "metadata": {},
   "outputs": [
    {
     "data": {
      "text/plain": [
       "<AxesSubplot: >"
      ]
     },
     "execution_count": 32,
     "metadata": {},
     "output_type": "execute_result"
    },
    {
     "data": {
      "image/png": "[encoded data removed]",
      "text/plain": [
       "<Figure size 1200x600 with 1 Axes>"
      ]
     },
     "metadata": {},
     "output_type": "display_data"
    }
   ],
   "source": [
    "test[['AQI', 'Predictions']].plot(figsize=(12,6))"
   ]
  },
  {
   "cell_type": "code",
   "execution_count": 33,
   "id": "6c975dcd",
   "metadata": {},
   "outputs": [
    {
     "name": "stdout",
     "output_type": "stream",
     "text": [
      "4.0889172414118535\n"
     ]
    }
   ],
   "source": [
    "rmse = np.sqrt(mean_squared_error(test.AQI, test.Predictions))\n",
    "print(rmse)"
   ]
  },
  {
   "cell_type": "code",
   "execution_count": 34,
   "id": "2e88ed64",
   "metadata": {},
   "outputs": [],
   "source": [
    "# rmse of best_model is slightly lower than the SARIMA model (RMSE:  4.31), but higher than Prophet (RMSE:  2.58)."
   ]
  },
  {
   "cell_type": "code",
   "execution_count": null,
   "id": "18df4a30",
   "metadata": {},
   "outputs": [],
   "source": []
  }
 ],
 "metadata": {
  "kernelspec": {
   "display_name": "Python 3 (ipykernel)",
   "language": "python",
   "name": "python3"
  },
  "language_info": {
   "codemirror_mode": {
    "name": "ipython",
    "version": 3
   },
   "file_extension": ".py",
   "mimetype": "text/x-python",
   "name": "python",
   "nbconvert_exporter": "python",
   "pygments_lexer": "ipython3",
   "version": "3.9.12"
  }
 },
 "nbformat": 4,
 "nbformat_minor": 5
}
